{
 "cells": [
  {
   "cell_type": "code",
   "execution_count": 69,
   "metadata": {},
   "outputs": [],
   "source": [
    "import csv\n",
    "import pathlib\n",
    "import functions\n",
    "\n",
    "poblation = pathlib.Path( 'datasets', 'c2022_tp_c_resumen_adaptado.csv') # original\n",
    "act_poblation = pathlib.Path('custom_datasets', 'c2022_tp_c_resumen_adaptado.csv')  # actualizado\n",
    "max_poblation = pathlib.Path ('custom_datasets', 'c2022_tp_c_resumen_adaptado.csv') #max\n",
    "\n"
   ]
  },
  {
   "cell_type": "code",
   "execution_count": 70,
   "metadata": {},
   "outputs": [
    {
     "name": "stdout",
     "output_type": "stream",
     "text": [
      "['Buenos Aires', 582858]\n",
      "-----------------\n",
      "['Ciudad Autónoma de Buenos Aires', 241961]\n",
      "['Buenos Aires', 582858]\n",
      "['Catamarca', 8634]\n",
      "['Chaco', 34296]\n",
      "['Chubut', 9797]\n",
      "['Córdoba', 128115]\n",
      "['Corrientes', 34678]\n",
      "['Entre Ríos', 38484]\n",
      "['Formosa', 13799]\n",
      "['Jujuy', 24431]\n",
      "['La Pampa', 6143]\n",
      "['La Rioja', 9169]\n",
      "['Mendoza', 64384]\n",
      "['Misiones', 26721]\n",
      "['Neuquén', 12638]\n",
      "['Rio Negro', 17054]\n",
      "['Salta', 35673]\n",
      "['San Juan', 20451]\n",
      "['San Luis', 11415]\n",
      "['Santa Cruz', 2960]\n",
      "['Santa Fe', 124390]\n",
      "['Santiago del Estero', 17820]\n",
      "['Tierra del Fuego, Antártida e Islas del Atlántico Sur', 1052]\n",
      "['Tucumán', 51780]\n"
     ]
    }
   ],
   "source": [
    "\n",
    "\n",
    "with (\n",
    "    poblation.open(mode = 'r', encoding = 'utf-8') as file_reader, \n",
    "    act_poblation.open(mode = 'w',  newline= '', encoding = 'utf-8') as file_writer \n",
    "):\n",
    "    reader = csv.reader(file_reader)\n",
    "    writer = csv.writer(file_writer)\n",
    "\n",
    "\n",
    "    header = next(reader)\n",
    "    header.append('Porcentaje pobreza')\n",
    "    writer.writerow(header)\n",
    "    \n",
    "    functions.poblation_process(reader,writer)\n",
    "    \n",
    "with (  \n",
    "    act_poblation.open(mode = 'r', encoding = 'utf-8') as file_reader, #abro el archivo actualizado en modo lectura\n",
    "):\n",
    "    reader = csv.reader(file_reader)\n",
    "    data = list(reader) # paso a lista\n",
    "\n",
    "\n",
    "    #inciso 7\n",
    "\n",
    "    max_percent = list(map(lambda x: [x[0], x[13]], data)) #solo tomo nombres y porcentajes en una lista\n",
    "    max_percent.sort(key=lambda x: x[1], reverse=True) #ordeno de mayor a menor los porcentajes\n",
    "\n",
    "    #for i in max_percent: #solo para verificar \n",
    "     #   print(i)\n",
    "\n",
    "    max_five = max_percent[:5] #guardo solo los primeros 5\n",
    "    #print(max_five) #imprimo\n",
    "\n",
    "    #print( max_percent[:5])\n",
    "\n",
    "\n",
    "\n",
    "     #inciso 8\n",
    "\n",
    "\n",
    "    max_gender =list(map(lambda x: [x[0], x[5] ,x[9]], data))[2:] # con [:2] omito el header y el total\n",
    "    max_finally = list(map(lambda x: [x[0], abs(int(x[1]) - int(x[2]))], max_gender)) #uso la funcion absoluta para que me de siempre positivo\n",
    "\n",
    "    maximo = max(max_finally, key = lambda x: x[1]) #calculo el max\n",
    "    print(maximo)\n",
    "    print('-----------------')\n",
    "\n",
    "    for i in max_finally:\n",
    "        print(i)  \n",
    "\n"
   ]
  }
 ],
 "metadata": {
  "kernelspec": {
   "display_name": "Python 3",
   "language": "python",
   "name": "python3"
  },
  "language_info": {
   "codemirror_mode": {
    "name": "ipython",
    "version": 3
   },
   "file_extension": ".py",
   "mimetype": "text/x-python",
   "name": "python",
   "nbconvert_exporter": "python",
   "pygments_lexer": "ipython3",
   "version": "3.11.7"
  }
 },
 "nbformat": 4,
 "nbformat_minor": 2
}
