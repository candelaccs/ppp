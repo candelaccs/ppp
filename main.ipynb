{
 "cells": [
  {
   "cell_type": "code",
   "execution_count": 1,
   "metadata": {},
   "outputs": [],
   "source": [
    "import csv\n",
    "from pathlib import Path\n",
    "import functions\n",
    "\n",
    "poblation = Path( 'datasets', 'c2022_tp_c_resumen_adaptado.csv') # original\n",
    "act_poblation = Path('custom_datasets', 'c2022_tp_c_resumen_adaptado.csv')  # actualizado\n",
    "\n",
    "\n"
   ]
  },
  {
   "cell_type": "code",
   "execution_count": 6,
   "metadata": {},
   "outputs": [
    {
     "name": "stdout",
     "output_type": "stream",
     "text": [
      "las 5 Jurisdicciones con mayor porcentaje de población en situación de calle son:  [['Ciudad Autónoma de Buenos Aires', '0.07697711540512932'], ['Santa Cruz', '0.025798722518429774'], ['Salta', '0.017622355692679992'], ['Entre Ríos', '0.01164439967507916'], ['Santa Fe', '0.011255581244985765']]\n",
      "['Buenos Aires', 582858]\n",
      "la jurisdiccion con mas brecha poblacional es []\n"
     ]
    }
   ],
   "source": [
    "\n",
    "\n",
    "with (\n",
    "    poblation.open(mode = 'r', encoding = 'utf-8') as file_reader, \n",
    "    act_poblation.open(mode = 'w',  newline= '', encoding = 'utf-8') as file_writer \n",
    "):\n",
    "    reader = csv.reader(file_reader)\n",
    "    writer = csv.writer(file_writer)\n",
    "\n",
    "\n",
    "    header = next(reader)\n",
    "    header.append('Porcentaje pobreza')\n",
    "    writer.writerow(header)\n",
    "    \n",
    "    functions.poblation_process(reader,writer)\n",
    "    \n",
    "with (  \n",
    "    act_poblation.open(mode = 'r', encoding = 'utf-8') as file_reader, #abro el archivo actualizado en modo lectura\n",
    "):\n",
    "    reader = csv.reader(file_reader)\n",
    "    data = list(reader) # paso a lista\n",
    "    \n",
    "\n",
    "\n",
    "\n",
    "    #inciso 7\n",
    "\n",
    "    #jurisdiction = 0\n",
    "    #poverty = 13\n",
    "    #max_percent = list(map(lambda x: [x[jurisdiction], x[poverty]], data))[2:] #solo tomo nombres y porcentajes en una lista\n",
    "    #percent = 1\n",
    "    #max_percent.sort(key=lambda x: x[percent], reverse=True) #ordeno de mayor a menor los porcentajes\n",
    "    max_percent = []\n",
    "    functions.max_five_percent(data,max_percent)\n",
    "    print (f\"las 5 Jurisdicciones con mayor porcentaje de población en situación de calle son:  {max_percent[:5]}\") #imprime solo las primeras 5\n",
    "    #print( max_percent[:5])\n",
    "\n",
    "\n",
    "    #inciso 8\n",
    "\n",
    "    max_gender = []\n",
    "    maxim = []\n",
    "    functions.max_gender_jurisdiction(data, maxim)\n",
    "    print (f\"la jurisdiccion con mas brecha poblacional es {maxim}\")\n",
    "\n",
    "\n",
    "    #max_gender =list(map(lambda x: [x[0], x[5] ,x[9]], data))[2:] # con [:2] omito el header y el total\n",
    "    #max_finally = list(map(lambda x: [x[0], abs(int(x[1]) - int(x[2]))], max_gender)) #uso la funcion absoluta para que me de siempre positivo\n",
    "\n",
    "    #maximo = max(max_finally, key = lambda x: x[1]) #calculo el max\n",
    "    #print(maximo)\n",
    "    #print('-----------------')\n",
    "\n",
    "    #for i in max_finally:\n",
    "     #   print(i)  \n",
    "\n"
   ]
  },
  {
   "cell_type": "code",
   "execution_count": 3,
   "metadata": {},
   "outputs": [
    {
     "name": "stdout",
     "output_type": "stream",
     "text": [
      "city,lat,lng,country,iso2,admin_name,capital,population,population_proper\n",
      "\n",
      "['Buenos Aires', 'Córdoba', 'Santiago del Estero', 'San Miguel de Tucumán', 'Salta', 'San Juan', 'Santa Fe', 'Corrientes', 'San Salvador de Jujuy', 'Resistencia', 'Posadas', 'Paraná', 'Formosa', 'Neuquén', 'La Plata', 'La Rioja', 'San Luis', 'Catamarca', 'Mendoza', 'Santa Rosa', 'Río Gallegos', 'Viedma', 'Ushuaia', 'Rawson']\n"
     ]
    }
   ],
   "source": [
    "ar = Path('datasets', 'ar.csv')\n",
    "conectividad = Path('custom_datasets', 'Conectividad_Internet.csv')\n",
    "\n",
    "capital_conectividad = []\n",
    "\n",
    "with  ar.open(mode = 'r', encoding = 'utf-8', newline= '') as file_ar_reader: \n",
    "    \n",
    "     num_capital = 6 #guardo el indice de capital\n",
    "     nom_capital = 0 #guardo el nombre\n",
    "     \n",
    "\n",
    "     ar_reader = csv.reader(file_ar_reader)\n",
    "     skip = next(file_ar_reader)\n",
    "     print(skip)\n",
    "\n",
    "     for i in ar_reader:\n",
    "         if i[num_capital] == 'admin' or i[num_capital] == 'primary':  \n",
    "             capital_conectividad.append(i[nom_capital]) #me guardo las provincias y las capitales\n",
    "\n",
    "print (capital_conectividad)  \n",
    "\n"
   ]
  },
  {
   "cell_type": "code",
   "execution_count": 4,
   "metadata": {},
   "outputs": [
    {
     "name": "stdout",
     "output_type": "stream",
     "text": [
      "['Buenos Aires', 'Córdoba', 'Santiago del Estero', 'San Miguel de Tucumán', 'Salta', 'San Juan', 'Santa Fe', 'Corrientes', 'San Salvador de Jujuy', 'Resistencia', 'Posadas', 'Paraná', 'Formosa', 'Neuquén', 'La Plata', 'La Rioja', 'San Luis', 'Catamarca', 'Mendoza', 'Santa Rosa', 'Río Gallegos', 'Viedma', 'Ushuaia', 'Rawson']\n"
     ]
    },
    {
     "ename": "IndexError",
     "evalue": "list index out of range",
     "output_type": "error",
     "traceback": [
      "\u001b[1;31m---------------------------------------------------------------------------\u001b[0m",
      "\u001b[1;31mIndexError\u001b[0m                                Traceback (most recent call last)",
      "Cell \u001b[1;32mIn[4], line 13\u001b[0m\n\u001b[0;32m      9\u001b[0m skip \u001b[38;5;241m=\u001b[39m \u001b[38;5;28mnext\u001b[39m (file_conectividad_reader)\n\u001b[0;32m     12\u001b[0m \u001b[38;5;28;01mfor\u001b[39;00m i \u001b[38;5;129;01min\u001b[39;00m conectividad_reader:\n\u001b[1;32m---> 13\u001b[0m      \u001b[38;5;28;01mif\u001b[39;00m \u001b[43mi\u001b[49m\u001b[43m[\u001b[49m\u001b[43mlocalidad\u001b[49m\u001b[43m]\u001b[49m \u001b[38;5;129;01min\u001b[39;00m capital_conectividad \u001b[38;5;129;01mand\u001b[39;00m i[conexion] \u001b[38;5;241m==\u001b[39m \u001b[38;5;124m'\u001b[39m\u001b[38;5;124mSI\u001b[39m\u001b[38;5;124m'\u001b[39m:\n\u001b[0;32m     14\u001b[0m       \u001b[38;5;28mprint\u001b[39m(i[localidad], i[conexion], i[\u001b[38;5;241m0\u001b[39m])\n\u001b[0;32m     15\u001b[0m       \u001b[38;5;66;03m#lista o imprimir directamente?\u001b[39;00m\n",
      "\u001b[1;31mIndexError\u001b[0m: list index out of range"
     ]
    }
   ],
   "source": [
    " print (capital_conectividad)\n",
    " with conectividad.open (mode = 'r', encoding = 'utf-8', newline= '') as file_conectividad_reader: #tengo que buscar las capis y comprobar si tienen conectividad\n",
    "\n",
    "     localidad = 2\n",
    "     conexion =  16\n",
    "\n",
    "\n",
    "     conectividad_reader = csv.reader (file_conectividad_reader)\n",
    "     skip = next (file_conectividad_reader)\n",
    "\n",
    "\n",
    "     for i in conectividad_reader:\n",
    "          if i[localidad] in capital_conectividad and i[conexion] == 'SI':\n",
    "           print(i[localidad], i[conexion], i[0])\n",
    "           #lista o imprimir directamente?\n",
    "            \n",
    "          "
   ]
  }
 ],
 "metadata": {
  "kernelspec": {
   "display_name": "Python 3",
   "language": "python",
   "name": "python3"
  },
  "language_info": {
   "codemirror_mode": {
    "name": "ipython",
    "version": 3
   },
   "file_extension": ".py",
   "mimetype": "text/x-python",
   "name": "python",
   "nbconvert_exporter": "python",
   "pygments_lexer": "ipython3",
   "version": "3.11.7"
  }
 },
 "nbformat": 4,
 "nbformat_minor": 2
}
