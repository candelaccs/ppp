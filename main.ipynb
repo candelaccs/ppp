{
 "cells": [
  {
   "cell_type": "code",
   "execution_count": 56,
   "metadata": {},
   "outputs": [],
   "source": [
    "import csv\n",
    "import pathlib\n",
    "import functions\n",
    "\n",
    "poblation = pathlib.Path( 'datasets', 'c2022_tp_c_resumen_adaptado.csv') # original\n",
    "act_poblation = pathlib.Path('custom_datasets', 'c2022_tp_c_resumen_adaptado.csv')  # actualizado\n",
    "max_poblation = pathlib.Path ('custom_datasets', 'c2022_tp_c_resumen_adaptado.csv') #max\n",
    "\n"
   ]
  },
  {
   "cell_type": "code",
   "execution_count": 57,
   "metadata": {},
   "outputs": [
    {
     "name": "stdout",
     "output_type": "stream",
     "text": [
      "[['Jurisdicción', 'Porcentaje pobreza'], ['Ciudad Autónoma de Buenos Aires', '0.07697711540512932'], ['Santa Cruz', '0.025798722518429774'], ['Salta', '0.017622355692679992'], ['Total del país', '0.012431283384560171']]\n"
     ]
    }
   ],
   "source": [
    "\n",
    "\n",
    "with (\n",
    "    poblation.open(mode = 'r', encoding = 'utf-8') as file_reader, \n",
    "    act_poblation.open(mode = 'w',  newline= '', encoding = 'utf-8') as file_writer \n",
    "):\n",
    "    reader = csv.reader(file_reader)\n",
    "    writer = csv.writer(file_writer)\n",
    "\n",
    "\n",
    "    header = next(reader)\n",
    "    header.append('Porcentaje pobreza')\n",
    "    writer.writerow(header)\n",
    "    \n",
    "    functions.poblation_process(reader,writer)\n",
    "    \n",
    "with (  \n",
    "    act_poblation.open(mode = 'r', encoding = 'utf-8') as file_reader, #abro el archivo actualizado en modo lectura\n",
    "):\n",
    "    reader = csv.reader(file_reader)\n",
    "    data = list(reader) # paso a lista\n",
    "\n",
    "    max_percent = list(map(lambda x: [x[0], x[13]], data)) #solo tomo nombres y porcentajes en una lista\n",
    "    max_percent.sort(key=lambda x: x[1], reverse=True) #ordeno de mayor a menor los porcentajes\n",
    "\n",
    "    #for i in max_percent: #solo para verificar \n",
    "     #   print(i)\n",
    "\n",
    "    max_five = max_percent[:5] #guardo solo los primeros 5\n",
    "\n",
    "    print(max_five) #imprimo\n",
    "      \n",
    "\n"
   ]
  }
 ],
 "metadata": {
  "kernelspec": {
   "display_name": "Python 3",
   "language": "python",
   "name": "python3"
  },
  "language_info": {
   "codemirror_mode": {
    "name": "ipython",
    "version": 3
   },
   "file_extension": ".py",
   "mimetype": "text/x-python",
   "name": "python",
   "nbconvert_exporter": "python",
   "pygments_lexer": "ipython3",
   "version": "3.11.7"
  }
 },
 "nbformat": 4,
 "nbformat_minor": 2
}
